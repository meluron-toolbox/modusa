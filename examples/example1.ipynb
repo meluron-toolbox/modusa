{
 "cells": [
  {
   "cell_type": "markdown",
   "id": "893352d3-8f12-49cc-a51b-4dc721baa83a",
   "metadata": {},
   "source": [
    "### Loading Audio Signal"
   ]
  },
  {
   "cell_type": "markdown",
   "id": "ef62282b-f99f-44a5-9dae-b3242fca8611",
   "metadata": {},
   "source": [
    "We recommend using `modusa.io.AudioLoader` to create `modusa.signals.AudioSignal` instance."
   ]
  },
  {
   "cell_type": "code",
   "execution_count": 1,
   "id": "23cf7afc-bf23-4656-963e-b836f7248dcd",
   "metadata": {},
   "outputs": [],
   "source": [
    "from modusa.io import AudioLoader"
   ]
  },
  {
   "cell_type": "markdown",
   "id": "67c14d4e-1d37-4c9c-840b-434837ccd6d0",
   "metadata": {},
   "source": [
    "Audio can be loaded from different sources. You can load `audio` from `file`, `np.array`, `YouTube`, etc."
   ]
  },
  {
   "cell_type": "code",
   "execution_count": 11,
   "id": "b4d0df40-67d9-47ee-9884-f17018d46049",
   "metadata": {},
   "outputs": [
    {
     "name": "stdout",
     "output_type": "stream",
     "text": [
      "--------------------------------------------------\n",
      "Title               : Aditya Rikhari - Faasle.mp3\n",
      "Kind                : Audio Signal\n",
      "Duration            : 221.99 sec\n",
      "Sampling Rate       : 48000 Hz\n",
      "Sampling Period     : 0.0208 ms\n",
      "--------------------------------------------------\n"
     ]
    }
   ],
   "source": [
    "# From file path\n",
    "audio_from_fp = AudioLoader.from_fp(\n",
    "    \"../../../../../music/songs/Aditya Rikhari - Faasle.mp3\")\n",
    "audio_from_fp.info # Use this to print the details of the audio"
   ]
  },
  {
   "cell_type": "code",
   "execution_count": 9,
   "id": "3752ecd2-a3ac-47be-849a-74e114b81ec7",
   "metadata": {},
   "outputs": [
    {
     "name": "stdout",
     "output_type": "stream",
     "text": [
      "--------------------------------------------------       \n",
      "Title               : Cartoon, Jéja - On & On (feat. Daniel Levi) ｜ Electronic Pop ｜ NCS - Copyright Free Music\n",
      "Kind                : Audio Signal\n",
      "Duration            : 207.97 sec\n",
      "Sampling Rate       : 48000 Hz\n",
      "Sampling Period     : 0.0208 ms\n",
      "--------------------------------------------------\n"
     ]
    }
   ],
   "source": [
    "# From YouTube\n",
    "audio_from_youtube = AudioLoader.from_youtube(\n",
    "    url=\"https://www.youtube.com/watch?v=K4DyBUG242c\", \n",
    "    sr=None) # None to keep it at source sampling rate\n",
    "audio_from_youtube.info"
   ]
  },
  {
   "cell_type": "markdown",
   "id": "ab46b7ab-e3da-4f89-81f6-0ba9c70a9730",
   "metadata": {},
   "source": [
    "If you already have the audio signal loaded in np.array and want to create an `modusa.signals.AudioSignal` instance from it. \\\n",
    "Here is how you can do that."
   ]
  },
  {
   "cell_type": "code",
   "execution_count": 10,
   "id": "6cf9bafd-4ce6-41c6-aa81-3afcba81ca60",
   "metadata": {},
   "outputs": [
    {
     "name": "stdout",
     "output_type": "stream",
     "text": [
      "--------------------------------------------------\n",
      "Title               : Aditya Rikhari - Faasle.mp3 (Loaded from an array)\n",
      "Kind                : Audio Signal\n",
      "Duration            : 221.99 sec\n",
      "Sampling Rate       : 48000 Hz\n",
      "Sampling Period     : 0.0208 ms\n",
      "--------------------------------------------------\n"
     ]
    }
   ],
   "source": [
    "import librosa\n",
    "x, sr = librosa.load(\n",
    "    \"../../../../../music/songs/Aditya Rikhari - Faasle.mp3\", \n",
    "    sr=None)\n",
    "audio_from_array = AudioLoader.from_array_with_sr(\n",
    "    y=x, \n",
    "    sr=sr)\n",
    "audio_from_array.title = \"Aditya Rikhari - Faasle.mp3 (Loaded from an array)\"\n",
    "audio_from_array.info"
   ]
  },
  {
   "cell_type": "markdown",
   "id": "5485559e-9e67-4356-b976-1c34688d18ce",
   "metadata": {},
   "source": [
    "Note: You can also use `from_array` and pass on `y` and `t` directy rather than `sr`."
   ]
  },
  {
   "cell_type": "code",
   "execution_count": null,
   "id": "8fb741c5-7093-4574-ad86-737f9bccabf3",
   "metadata": {},
   "outputs": [],
   "source": []
  },
  {
   "cell_type": "code",
   "execution_count": null,
   "id": "27469fb6-4b63-489b-a56b-644bd2af692f",
   "metadata": {},
   "outputs": [],
   "source": []
  },
  {
   "cell_type": "code",
   "execution_count": null,
   "id": "779a1c5a-2c6a-4f4e-b2f4-e794ea2a4dd1",
   "metadata": {},
   "outputs": [],
   "source": []
  }
 ],
 "metadata": {
  "kernelspec": {
   "display_name": "Modusa",
   "language": "python",
   "name": "modusa-3.12"
  },
  "language_info": {
   "codemirror_mode": {
    "name": "ipython",
    "version": 3
   },
   "file_extension": ".py",
   "mimetype": "text/x-python",
   "name": "python",
   "nbconvert_exporter": "python",
   "pygments_lexer": "ipython3",
   "version": "3.12.0"
  }
 },
 "nbformat": 4,
 "nbformat_minor": 5
}
