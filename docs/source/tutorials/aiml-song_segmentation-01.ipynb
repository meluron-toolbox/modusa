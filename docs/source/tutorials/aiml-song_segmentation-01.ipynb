{
 "cells": [
  {
   "cell_type": "markdown",
   "id": "73007e72-26de-4733-aa1e-2bfed15241c4",
   "metadata": {},
   "source": [
    "# Song Segmentation"
   ]
  },
  {
   "cell_type": "markdown",
   "id": "13d3e46d-b951-4211-a071-75e43fa37424",
   "metadata": {},
   "source": [
    "The goal is to figure out a way to segment different sections of a song. \\\n",
    "But in order to do that, first we need to manually segment songs so that we get a little bit of idea \n",
    "of what we are looking for."
   ]
  },
  {
   "cell_type": "code",
   "execution_count": null,
   "id": "062e1034-1382-4ca9-ab34-08c21af2f93d",
   "metadata": {},
   "outputs": [],
   "source": []
  },
  {
   "cell_type": "code",
   "execution_count": null,
   "id": "a5355e0e-b597-4db7-8e9d-29daedbb0b2f",
   "metadata": {},
   "outputs": [],
   "source": []
  },
  {
   "cell_type": "code",
   "execution_count": null,
   "id": "15989218-6cf6-4ab4-8105-0a534b099516",
   "metadata": {},
   "outputs": [],
   "source": []
  },
  {
   "cell_type": "code",
   "execution_count": null,
   "id": "5f97ccd9-6381-4411-a69a-0ffab9ceb283",
   "metadata": {},
   "outputs": [],
   "source": []
  },
  {
   "cell_type": "code",
   "execution_count": null,
   "id": "99000995-043a-463f-b941-403dc41d973d",
   "metadata": {},
   "outputs": [],
   "source": []
  },
  {
   "cell_type": "code",
   "execution_count": null,
   "id": "8119b0bb-afdb-40fd-9ed4-132fba40497a",
   "metadata": {},
   "outputs": [],
   "source": []
  }
 ],
 "metadata": {
  "kernelspec": {
   "display_name": "Python 3 (ipykernel)",
   "language": "python",
   "name": "python3"
  },
  "language_info": {
   "codemirror_mode": {
    "name": "ipython",
    "version": 3
   },
   "file_extension": ".py",
   "mimetype": "text/x-python",
   "name": "python",
   "nbconvert_exporter": "python",
   "pygments_lexer": "ipython3",
   "version": "3.12.0"
  }
 },
 "nbformat": 4,
 "nbformat_minor": 5
}
